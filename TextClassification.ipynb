{
  "nbformat": 4,
  "nbformat_minor": 0,
  "metadata": {
    "colab": {
      "name": "TextClassification.ipynb",
      "provenance": [],
      "collapsed_sections": [],
      "include_colab_link": true
    },
    "kernelspec": {
      "name": "python3",
      "display_name": "Python 3"
    },
    "widgets": {
      "application/vnd.jupyter.widget-state+json": {
        "05518bbe8bf64f0ea577c27a2fb4828f": {
          "model_module": "@jupyter-widgets/controls",
          "model_name": "DropdownModel",
          "state": {
            "_options_labels": [
              "svm",
              "lstm",
              "bayes"
            ],
            "_view_name": "DropdownView",
            "style": "IPY_MODEL_d5efa9884cfb4ca88d551a01a7a3a4ca",
            "_dom_classes": [],
            "description": "Which model shall we test it on?",
            "_model_name": "DropdownModel",
            "index": 0,
            "_view_module": "@jupyter-widgets/controls",
            "_model_module_version": "1.5.0",
            "_view_count": null,
            "disabled": false,
            "_view_module_version": "1.5.0",
            "description_tooltip": null,
            "_model_module": "@jupyter-widgets/controls",
            "layout": "IPY_MODEL_0551f70c66294e9c84585f488c0409d7"
          }
        },
        "d5efa9884cfb4ca88d551a01a7a3a4ca": {
          "model_module": "@jupyter-widgets/controls",
          "model_name": "DescriptionStyleModel",
          "state": {
            "_view_name": "StyleView",
            "_model_name": "DescriptionStyleModel",
            "description_width": "initial",
            "_view_module": "@jupyter-widgets/base",
            "_model_module_version": "1.5.0",
            "_view_count": null,
            "_view_module_version": "1.2.0",
            "_model_module": "@jupyter-widgets/controls"
          }
        },
        "0551f70c66294e9c84585f488c0409d7": {
          "model_module": "@jupyter-widgets/base",
          "model_name": "LayoutModel",
          "state": {
            "_view_name": "LayoutView",
            "grid_template_rows": null,
            "right": null,
            "justify_content": null,
            "_view_module": "@jupyter-widgets/base",
            "overflow": null,
            "_model_module_version": "1.2.0",
            "_view_count": null,
            "flex_flow": null,
            "width": null,
            "min_width": null,
            "border": null,
            "align_items": null,
            "bottom": null,
            "_model_module": "@jupyter-widgets/base",
            "top": null,
            "grid_column": null,
            "overflow_y": null,
            "overflow_x": null,
            "grid_auto_flow": null,
            "grid_area": null,
            "grid_template_columns": null,
            "flex": null,
            "_model_name": "LayoutModel",
            "justify_items": null,
            "grid_row": null,
            "max_height": null,
            "align_content": null,
            "visibility": null,
            "align_self": null,
            "height": null,
            "min_height": null,
            "padding": null,
            "grid_auto_rows": null,
            "grid_gap": null,
            "max_width": null,
            "order": null,
            "_view_module_version": "1.2.0",
            "grid_template_areas": null,
            "object_position": null,
            "object_fit": null,
            "grid_auto_columns": null,
            "margin": null,
            "display": null,
            "left": null
          }
        },
        "519c23fd97d1414cbf65da566d6f243e": {
          "model_module": "@jupyter-widgets/controls",
          "model_name": "TextModel",
          "state": {
            "_view_name": "TextView",
            "style": "IPY_MODEL_cf8a2ee068cc43159a751ef84cb886f6",
            "_dom_classes": [],
            "description": "What statement do you have for us?",
            "_model_name": "TextModel",
            "placeholder": "​",
            "_view_module": "@jupyter-widgets/controls",
            "_model_module_version": "1.5.0",
            "value": "Team- und Kommunikationsfähigkeit besitzen",
            "_view_count": null,
            "disabled": false,
            "_view_module_version": "1.5.0",
            "continuous_update": true,
            "description_tooltip": null,
            "_model_module": "@jupyter-widgets/controls",
            "layout": "IPY_MODEL_70644b8a77cd410983e6624d252aa7e3"
          }
        },
        "cf8a2ee068cc43159a751ef84cb886f6": {
          "model_module": "@jupyter-widgets/controls",
          "model_name": "DescriptionStyleModel",
          "state": {
            "_view_name": "StyleView",
            "_model_name": "DescriptionStyleModel",
            "description_width": "initial",
            "_view_module": "@jupyter-widgets/base",
            "_model_module_version": "1.5.0",
            "_view_count": null,
            "_view_module_version": "1.2.0",
            "_model_module": "@jupyter-widgets/controls"
          }
        },
        "70644b8a77cd410983e6624d252aa7e3": {
          "model_module": "@jupyter-widgets/base",
          "model_name": "LayoutModel",
          "state": {
            "_view_name": "LayoutView",
            "grid_template_rows": null,
            "right": null,
            "justify_content": null,
            "_view_module": "@jupyter-widgets/base",
            "overflow": null,
            "_model_module_version": "1.2.0",
            "_view_count": null,
            "flex_flow": null,
            "width": null,
            "min_width": null,
            "border": null,
            "align_items": null,
            "bottom": null,
            "_model_module": "@jupyter-widgets/base",
            "top": null,
            "grid_column": null,
            "overflow_y": null,
            "overflow_x": null,
            "grid_auto_flow": null,
            "grid_area": null,
            "grid_template_columns": null,
            "flex": null,
            "_model_name": "LayoutModel",
            "justify_items": null,
            "grid_row": null,
            "max_height": null,
            "align_content": null,
            "visibility": null,
            "align_self": null,
            "height": null,
            "min_height": null,
            "padding": null,
            "grid_auto_rows": null,
            "grid_gap": null,
            "max_width": null,
            "order": null,
            "_view_module_version": "1.2.0",
            "grid_template_areas": null,
            "object_position": null,
            "object_fit": null,
            "grid_auto_columns": null,
            "margin": null,
            "display": null,
            "left": null
          }
        }
      }
    }
  },
  "cells": [
    {
      "cell_type": "markdown",
      "metadata": {
        "id": "view-in-github",
        "colab_type": "text"
      },
      "source": [
        "<a href=\"https://colab.research.google.com/github/parthsarthi0411/text_Classification/blob/master/TextClassification.ipynb\" target=\"_parent\"><img src=\"https://colab.research.google.com/assets/colab-badge.svg\" alt=\"Open In Colab\"/></a>"
      ]
    },
    {
      "cell_type": "markdown",
      "metadata": {
        "id": "OFIIeDs6tA2h",
        "colab_type": "text"
      },
      "source": [
        "**\"Text Classification\"** is a common business problem solved under the umbrella of Natural Language Processing. The goal is to automatically classify a given text into one or more predefined categories. \n",
        "\n",
        "The given dataset (JSON file) has about 10.000 sentences (key: text) each belonging to a particular category (key: label). (Job requirements categorized on technical, softskills and others)\n",
        "\n",
        "The challenge is broken into several tasks which are as below:\n"
      ]
    },
    {
      "cell_type": "code",
      "metadata": {
        "id": "xmKnzUDBOLXA",
        "colab_type": "code",
        "colab": {}
      },
      "source": [
        "from sklearn import model_selection, preprocessing, linear_model, naive_bayes, metrics, svm\n",
        "from sklearn.feature_extraction.text import TfidfVectorizer, CountVectorizer\n",
        "from sklearn import decomposition, ensemble\n",
        "\n",
        "import pandas, xgboost, numpy, textblob, string\n",
        "from keras.preprocessing import text, sequence\n",
        "from keras import layers, models, optimizers"
      ],
      "execution_count": 0,
      "outputs": []
    },
    {
      "cell_type": "markdown",
      "metadata": {
        "id": "5ihO1DT6xSHe",
        "colab_type": "text"
      },
      "source": [
        "**Task 1**: Read the file and prepare the data or text classification (take decisions on how to clean the data, what to do with punctuation signs or special characters, etc.)\n"
      ]
    },
    {
      "cell_type": "markdown",
      "metadata": {
        "id": "1qbBlpmJ4BGn",
        "colab_type": "text"
      },
      "source": [
        "We first import the data from json file into a pandas Dataframe."
      ]
    },
    {
      "cell_type": "code",
      "metadata": {
        "id": "3OPWX6ALvcw2",
        "colab_type": "code",
        "colab": {}
      },
      "source": [
        "import pandas as pd\n",
        "\n",
        "path_to_json = 'tech_soft_none.json'\n",
        "data = pd.read_json(path_to_json,orient='split') "
      ],
      "execution_count": 0,
      "outputs": []
    },
    {
      "cell_type": "markdown",
      "metadata": {
        "id": "MJxIHAMcNqWL",
        "colab_type": "text"
      },
      "source": [
        "**Cleaning the data:** Machines read differently than humans. While a well-punctuated text eases the readability for us, it does quite the opposite for dear old machines. We will therefore start with cleaning the data of all the special signs (e.g. @,&,% etc.) and punctuation marks (e.g. !,; etc.)."
      ]
    },
    {
      "cell_type": "markdown",
      "metadata": {
        "id": "8wfWu2rUN0hE",
        "colab_type": "text"
      },
      "source": [
        "Removing puncuation marks via str.translate function and an inbuilt list of marks under string.punctuations. \n",
        "\n",
        "\n"
      ]
    },
    {
      "cell_type": "code",
      "metadata": {
        "id": "gGiIgzlZAnn0",
        "colab_type": "code",
        "outputId": "39ebc069-f32a-40cc-e086-7799396f105e",
        "colab": {
          "base_uri": "https://localhost:8080/",
          "height": 35
        }
      },
      "source": [
        "'''\n",
        "Python string method translate() returns a copy of the string in which all characters have been translated using table (constructed with the maketrans() function in the string module), optionally deleting all characters found in the string deletechars.\n",
        "Syntax : maketrans(str1, str2, str3)\n",
        "Parameters :\n",
        "str1 : Specifies the list of characters that need to be replaced.\n",
        "str2 : Specifies the list of characters with which the characters need to be replaced.\n",
        "str3 : Specifies the list of characters that needs to be deleted.\n",
        "\n",
        "string.punctuation = !\"#$%&'()*+, -./:;<=>?@[\\]^_`{|}~\n",
        "'''\n",
        "\n",
        "df['CleanData'] = df['text'].str.translate(str.maketrans('','',string.punctuation))\n",
        "\n",
        "df['CleanData'][0]"
      ],
      "execution_count": 23,
      "outputs": [
        {
          "output_type": "execute_result",
          "data": {
            "text/plain": [
              "'Standort Trovarit AG München Deutschland'"
            ]
          },
          "metadata": {
            "tags": []
          },
          "execution_count": 23
        }
      ]
    },
    {
      "cell_type": "markdown",
      "metadata": {
        "id": "BTgWWSMf59zX",
        "colab_type": "text"
      },
      "source": [
        "**Task 2**: Train a classification model that takes a sentence and predicts the class it belongs to. You are free to use any type of model or libraries for this task."
      ]
    },
    {
      "cell_type": "code",
      "metadata": {
        "id": "nfYok9fLQL4g",
        "colab_type": "code",
        "colab": {}
      },
      "source": [
        "#moving to a new dataframe\n",
        "\n",
        "trainDF = pandas.DataFrame()\n",
        "trainDF['text'] = df['CleanData']\n",
        "trainDF['label'] = df['label']"
      ],
      "execution_count": 0,
      "outputs": []
    },
    {
      "cell_type": "markdown",
      "metadata": {
        "id": "7qnQLMuD9zhh",
        "colab_type": "text"
      },
      "source": [
        "Before we start developing a classification model, it is imporatnt to split the data into separate training and validation sets. One would be used for training the model and the other to test the trained model."
      ]
    },
    {
      "cell_type": "markdown",
      "metadata": {
        "id": "2LYIm6EBWZwf",
        "colab_type": "text"
      },
      "source": [
        "Splitting the dataset into training and validation sets."
      ]
    },
    {
      "cell_type": "code",
      "metadata": {
        "id": "Fz4CCjIIQYiV",
        "colab_type": "code",
        "colab": {}
      },
      "source": [
        "# split the dataset into training and validation datasets \n",
        "train_x, valid_x, train_y, valid_y = model_selection.train_test_split(trainDF['text'], trainDF['label'])\n",
        "\n",
        "# label encode the target variable \n",
        "encoder = preprocessing.LabelEncoder()\n",
        "train_y = encoder.fit_transform(train_y)\n",
        "valid_y = encoder.fit_transform(valid_y)"
      ],
      "execution_count": 0,
      "outputs": []
    },
    {
      "cell_type": "markdown",
      "metadata": {
        "id": "wFviD2buWtvW",
        "colab_type": "text"
      },
      "source": [
        "At first we have to transform the raw text data into feature vectors. There are several methods used for this like count vectors, TF-IDF vectors, word embeddings etc. \n",
        "\n",
        "We start experimenting with TF-IDF vectors as features. A TF-IDF score represents the relative importance of a term in the document and the entire corpus. It is composed of two terms: the first computes the normalized Term Frequency (TF), the second term is the Inverse Document Frequency (IDF), computed as the logarithm of the number of the documents in the corpus divided by the number of documents where the specific term appears.\n",
        "\n",
        "TF-IDF Vectors can be generated at different levels of input tokens (words, characters, n-grams). We chose N-grams that is the combination of N terms together."
      ]
    },
    {
      "cell_type": "code",
      "metadata": {
        "id": "UJPn3g1nQu8Q",
        "colab_type": "code",
        "colab": {}
      },
      "source": [
        "#TF-IDF Vectors as features\n",
        "\n",
        "# ngram level tf-idf \n",
        "tfidf_vect_ngram = TfidfVectorizer(analyzer='word', token_pattern=r'\\w{1,}', ngram_range=(2,3), max_features=5000)\n",
        "tfidf_vect_ngram.fit(trainDF['text'])\n",
        "xtrain_tfidf_ngram =  tfidf_vect_ngram.transform(train_x)\n",
        "xvalid_tfidf_ngram =  tfidf_vect_ngram.transform(valid_x)"
      ],
      "execution_count": 0,
      "outputs": []
    },
    {
      "cell_type": "markdown",
      "metadata": {
        "id": "nbnhUD90Xb3C",
        "colab_type": "text"
      },
      "source": [
        "**Building and Saving the Model**\n"
      ]
    },
    {
      "cell_type": "markdown",
      "metadata": {
        "id": "VB8zU_8RYj6x",
        "colab_type": "text"
      },
      "source": [
        "The next step is to train a classifier using the features created in the previous step. Here again, there are several models that are used for text classification. We first implemtment the Naive Bayes Classifier and then one based on Support Vector Machine. "
      ]
    },
    {
      "cell_type": "code",
      "metadata": {
        "id": "8uxsd1R8Q0E6",
        "colab_type": "code",
        "colab": {}
      },
      "source": [
        "import joblib\n",
        "#utiliy function for different classifiers. It accepts the classifier, feature_vector of training data, labels of training data and feature vectors of valid data as inputs. Using these inputs, the model is trained and accuracy score is computed. \n",
        "\n",
        "def train_model(classifier, feature_vector_train, label, feature_vector_valid, model_type, is_neural_net=False):\n",
        "    # fit the training dataset on the classifier\n",
        "    classifier.fit(feature_vector_train, label)\n",
        "\n",
        "    # save the trained model in the \"models\" folder\n",
        "    joblib.dump(classifier, 'models/' + model_type + '.pkl') \n",
        "    print (\"model saved\")\n",
        "    \n",
        "    # predict the labels on validation dataset\n",
        "    predictions = classifier.predict(feature_vector_valid)\n",
        "    \n",
        "    if is_neural_net:\n",
        "        predictions = predictions.argmax(axis=-1)\n",
        "    \n",
        "    return metrics.accuracy_score(predictions, valid_y)"
      ],
      "execution_count": 0,
      "outputs": []
    },
    {
      "cell_type": "markdown",
      "metadata": {
        "id": "mEaEzZD5b8Dw",
        "colab_type": "text"
      },
      "source": [
        "Naive Bayes Model."
      ]
    },
    {
      "cell_type": "code",
      "metadata": {
        "id": "NTPI6qumTZAy",
        "colab_type": "code",
        "outputId": "f951ddd0-d64b-4875-e68c-b7782ca9852a",
        "colab": {
          "base_uri": "https://localhost:8080/",
          "height": 54
        }
      },
      "source": [
        "# Naive Bayes on Ngram Level TF IDF Vectors\n",
        "accuracy = train_model(naive_bayes.MultinomialNB(), xtrain_tfidf_ngram, train_y, xvalid_tfidf_ngram, 'bayes')\n",
        "print (\"NB, N-Gram Vectors: \", accuracy)"
      ],
      "execution_count": 53,
      "outputs": [
        {
          "output_type": "stream",
          "text": [
            "model saved\n",
            "NB, N-Gram Vectors:  0.9012875536480687\n"
          ],
          "name": "stdout"
        }
      ]
    },
    {
      "cell_type": "markdown",
      "metadata": {
        "id": "VitZsPcSZhqz",
        "colab_type": "text"
      },
      "source": [
        "Support Vector Machine Model"
      ]
    },
    {
      "cell_type": "code",
      "metadata": {
        "id": "3NCJqv6mTXNP",
        "colab_type": "code",
        "colab": {
          "base_uri": "https://localhost:8080/",
          "height": 54
        },
        "outputId": "5ed5a8b9-756e-4197-9f92-9e0d6dd16a16"
      },
      "source": [
        "#SVM\n",
        "accuracy = train_model(svm.SVC(), xtrain_tfidf_ngram, train_y, xvalid_tfidf_ngram, 'svm')\n",
        "print (\"SVM, N-Gram Vectors: \", accuracy)"
      ],
      "execution_count": 46,
      "outputs": [
        {
          "output_type": "stream",
          "text": [
            "model saved\n",
            "SVM, N-Gram Vectors:  0.8993367147873585\n"
          ],
          "name": "stdout"
        }
      ]
    },
    {
      "cell_type": "markdown",
      "metadata": {
        "id": "-O89u7-zaieg",
        "colab_type": "text"
      },
      "source": [
        "The models built on Naive Bayes and SVM give staisfactory results with an accuracy around 90%. Now we attempt a more sophisticated neural networks based approach to develop a classification model.\n",
        "\n",
        "The Recurrent Neural Networks, and more specifically a sub-type called LSTMs (Long Short Term Memory) are widely used in NLP problems as they have a sense of memory and can retain the information from previous states. We now try to train an LSTM based model for text classification."
      ]
    },
    {
      "cell_type": "markdown",
      "metadata": {
        "id": "mMjCnURuLvvY",
        "colab_type": "text"
      },
      "source": [
        "In the previous step we had transformed the raw text data into feature vectors in form of TF-IDF. These features were later used in Naive Bayes and SVM classification models. However, these features are not compatible to a neural network and thus cannot be fed to our LSTM model. \n",
        "\n",
        "We have to transform our raw data in to Word Embeddings (representing words using vectors) to feed it to the LSTM. We are going to use a pre-trained word embedding called Word2Vec. In the following section we are loading the embeddings."
      ]
    },
    {
      "cell_type": "code",
      "metadata": {
        "id": "Cz7YvlB2UU4S",
        "colab_type": "code",
        "colab": {}
      },
      "source": [
        "import gensim, re\n",
        "import numpy as np\n",
        "from gensim.models import Word2Vec\n",
        "\n",
        "from sklearn.model_selection import train_test_split\n",
        "from keras.preprocessing.text import Tokenizer\n",
        "from keras.preprocessing.sequence import pad_sequences\n",
        "from keras.models import Sequential\n",
        "from keras.layers import LSTM, Dense, Embedding\n",
        "\n",
        "text = [re.sub(r'([^\\s\\w]|_)+', '', sentence) for sentence in trainDF['text']]\n",
        "text = [sentence.lower().split() for sentence in text]\n",
        "\n",
        "word_model = gensim.models.Word2Vec(text, size=300, min_count=1, iter=10)\n",
        "\n",
        "#Embedding Matrix\n",
        "# save the vectors in a new matrix\n",
        "embedding_matrix = np.zeros((len(word_model.wv.vocab) + 1, 300))\n",
        "for i, vec in enumerate(word_model.wv.vectors):\n",
        "  embedding_matrix[i] = vec\n"
      ],
      "execution_count": 0,
      "outputs": []
    },
    {
      "cell_type": "markdown",
      "metadata": {
        "id": "TG86k-JPUiRj",
        "colab_type": "text"
      },
      "source": [
        "In this step we are tokenizing the text, i.e splitting the text into individual words."
      ]
    },
    {
      "cell_type": "code",
      "metadata": {
        "id": "ryfyEWSb0n3C",
        "colab_type": "code",
        "colab": {}
      },
      "source": [
        "#Tokenising for LSTM\n",
        "\n",
        "# how many features should the tokenizer extract\n",
        "features = 500\n",
        "tokenizer = Tokenizer(num_words = features)\n",
        "# fit the tokenizer on our text\n",
        "tokenizer.fit_on_texts(trainDF['text'])\n",
        "\n",
        "# get all words that the tokenizer knows\n",
        "word_index = tokenizer.word_index\n",
        "\n",
        "# put the tokens in a matrix\n",
        "X = tokenizer.texts_to_sequences(trainDF['text'])\n",
        "X = pad_sequences(X)\n",
        "\n",
        "# prepare the labels\n",
        "y = pd.get_dummies(trainDF['label'])\n",
        "\n",
        "# split in train and test\n",
        "X_train, X_test, y_train, y_test = train_test_split(X, y, test_size=0.1, shuffle=False)"
      ],
      "execution_count": 0,
      "outputs": []
    },
    {
      "cell_type": "markdown",
      "metadata": {
        "id": "kBN_a9xBVPnq",
        "colab_type": "text"
      },
      "source": [
        "Now we create the LSTM model. It is sequential. We initially use a layer to pass the embeddings which is followed by an LSTM layer and in the end a dense layer which does the classification. "
      ]
    },
    {
      "cell_type": "code",
      "metadata": {
        "id": "8iYbO7Be0vTR",
        "colab_type": "code",
        "colab": {}
      },
      "source": [
        "#LSTM MODEL \n",
        "from keras import backend as K\n",
        "# init model\n",
        "model = Sequential()\n",
        "# emmbed word vectors\n",
        "model.add(Embedding(len(word_model.wv.vocab)+1,300,input_length=X.shape[1],weights=[embedding_matrix],trainable=False))\n",
        "# learn the correlations\n",
        "model.add(LSTM(300,return_sequences=False))\n",
        "model.add(Dense(y.shape[1],activation=\"softmax\"))\n",
        "# output model skeleton\n",
        "# model.summary()\n",
        "\n",
        "# evaluation functions\n",
        "def recall_m(y_true, y_pred):\n",
        "    true_positives = K.sum(K.round(K.clip(y_true * y_pred, 0, 1)))\n",
        "    possible_positives = K.sum(K.round(K.clip(y_true, 0, 1)))\n",
        "    recall = true_positives / (possible_positives + K.epsilon())\n",
        "    return recall\n",
        "\n",
        "def precision_m(y_true, y_pred):\n",
        "    true_positives = K.sum(K.round(K.clip(y_true * y_pred, 0, 1)))\n",
        "    predicted_positives = K.sum(K.round(K.clip(y_pred, 0, 1)))\n",
        "    precision = true_positives / (predicted_positives + K.epsilon())\n",
        "    return precision\n",
        "\n",
        "def f1_m(y_true, y_pred):\n",
        "    precision = precision_m(y_true, y_pred)\n",
        "    recall = recall_m(y_true, y_pred)\n",
        "    return 2*((precision*recall)/(precision+recall+K.epsilon()))\n",
        "    \n",
        "\n",
        "model.compile(optimizer=\"adam\",loss=\"categorical_crossentropy\",metrics=['acc',f1_m,precision_m, recall_m])\n",
        "\n",
        "# optimizer \"adam\" is an adaptive learning rate optimization algorithm that's been designed specifically for training deep neural networks.\n",
        "# The algorithms leverages the power of adaptive learning rates methods to find individual learning rates for each parameter"
      ],
      "execution_count": 0,
      "outputs": []
    },
    {
      "cell_type": "markdown",
      "metadata": {
        "id": "Yry_-FsXWak7",
        "colab_type": "text"
      },
      "source": [
        "After this we train the model for 12 epochs (number of complete passes through the training dataset) with a batch size (number of samples processed before the model is updated) 32. The test and train split is 75/25."
      ]
    },
    {
      "cell_type": "code",
      "metadata": {
        "id": "N0DhQLil04uO",
        "colab_type": "code",
        "colab": {
          "base_uri": "https://localhost:8080/",
          "height": 1000
        },
        "outputId": "d01a8a72-59ec-4760-f9e2-c9f29dd00ff7"
      },
      "source": [
        "#Plotting Code\n",
        "\n",
        "import matplotlib.pyplot as plt\n",
        "\n",
        "history = model.fit(X_train, y_train, validation_split=0.25, epochs=12, batch_size=32, verbose=1)\n",
        "\n",
        "#saving the model\n",
        "model.save('models/lstm.h5')\n",
        "\n",
        "# Plot training & validation accuracy values\n",
        "plt.plot(history.history['acc'])\n",
        "plt.plot(history.history['val_acc'])\n",
        "plt.title('Model accuracy')\n",
        "plt.ylabel('Accuracy')\n",
        "plt.xlabel('Epoch')\n",
        "plt.legend(['Train', 'Test'], loc='upper left')\n",
        "plt.show()\n",
        "\n",
        "# Plot training & validation loss values\n",
        "plt.plot(history.history['loss'])\n",
        "plt.plot(history.history['val_loss'])\n",
        "plt.title('Model loss')\n",
        "plt.ylabel('Loss')\n",
        "plt.xlabel('Epoch')\n",
        "plt.legend(['Train', 'Test'], loc='upper left')\n",
        "plt.show()"
      ],
      "execution_count": 111,
      "outputs": [
        {
          "output_type": "stream",
          "text": [
            "Train on 6918 samples, validate on 2306 samples\n",
            "Epoch 1/12\n",
            "6918/6918 [==============================] - 167s 24ms/step - loss: 0.8044 - acc: 0.6385 - f1_m: 0.5825 - precision_m: 0.7105 - recall_m: 0.5121 - val_loss: 0.6995 - val_acc: 0.7285 - val_f1_m: 0.7079 - val_precision_m: 0.7638 - val_recall_m: 0.6618\n",
            "Epoch 2/12\n",
            "6918/6918 [==============================] - 160s 23ms/step - loss: 0.5777 - acc: 0.7699 - f1_m: 0.7586 - precision_m: 0.8081 - recall_m: 0.7165 - val_loss: 0.6490 - val_acc: 0.7689 - val_f1_m: 0.7367 - val_precision_m: 0.8086 - val_recall_m: 0.6800\n",
            "Epoch 3/12\n",
            "6918/6918 [==============================] - 160s 23ms/step - loss: 0.5043 - acc: 0.7962 - f1_m: 0.7928 - precision_m: 0.8348 - recall_m: 0.7561 - val_loss: 0.6068 - val_acc: 0.7788 - val_f1_m: 0.6607 - val_precision_m: 0.7783 - val_recall_m: 0.5950\n",
            "Epoch 4/12\n",
            "6918/6918 [==============================] - 159s 23ms/step - loss: 0.4629 - acc: 0.8173 - f1_m: 0.8106 - precision_m: 0.8475 - recall_m: 0.7783 - val_loss: 0.5636 - val_acc: 0.7875 - val_f1_m: 0.7777 - val_precision_m: 0.8306 - val_recall_m: 0.7337\n",
            "Epoch 5/12\n",
            "6918/6918 [==============================] - 160s 23ms/step - loss: 0.4187 - acc: 0.8313 - f1_m: 0.8315 - precision_m: 0.8641 - recall_m: 0.8024 - val_loss: 0.5429 - val_acc: 0.8127 - val_f1_m: 0.8048 - val_precision_m: 0.8563 - val_recall_m: 0.7615\n",
            "Epoch 6/12\n",
            "6918/6918 [==============================] - 161s 23ms/step - loss: 0.3766 - acc: 0.8505 - f1_m: 0.8463 - precision_m: 0.8770 - recall_m: 0.8186 - val_loss: 0.4942 - val_acc: 0.8213 - val_f1_m: 0.8099 - val_precision_m: 0.8427 - val_recall_m: 0.7810\n",
            "Epoch 7/12\n",
            "6918/6918 [==============================] - 159s 23ms/step - loss: 0.3455 - acc: 0.8630 - f1_m: 0.8640 - precision_m: 0.8899 - recall_m: 0.8403 - val_loss: 0.4373 - val_acc: 0.8452 - val_f1_m: 0.8470 - val_precision_m: 0.8694 - val_recall_m: 0.8265\n",
            "Epoch 8/12\n",
            "6918/6918 [==============================] - 160s 23ms/step - loss: 0.3160 - acc: 0.8747 - f1_m: 0.8746 - precision_m: 0.8954 - recall_m: 0.8553 - val_loss: 0.5733 - val_acc: 0.8200 - val_f1_m: 0.8190 - val_precision_m: 0.8427 - val_recall_m: 0.7979\n",
            "Epoch 9/12\n",
            "6918/6918 [==============================] - 161s 23ms/step - loss: 0.2827 - acc: 0.8900 - f1_m: 0.8892 - precision_m: 0.9084 - recall_m: 0.8714 - val_loss: 0.4707 - val_acc: 0.8443 - val_f1_m: 0.8397 - val_precision_m: 0.8720 - val_recall_m: 0.8109\n",
            "Epoch 10/12\n",
            "6918/6918 [==============================] - 163s 24ms/step - loss: 0.2611 - acc: 0.9001 - f1_m: 0.8977 - precision_m: 0.9148 - recall_m: 0.8818 - val_loss: 0.5428 - val_acc: 0.8248 - val_f1_m: 0.8257 - val_precision_m: 0.8467 - val_recall_m: 0.8066\n",
            "Epoch 11/12\n",
            "6918/6918 [==============================] - 162s 23ms/step - loss: 0.2307 - acc: 0.9120 - f1_m: 0.9102 - precision_m: 0.9253 - recall_m: 0.8959 - val_loss: 0.4554 - val_acc: 0.8617 - val_f1_m: 0.8577 - val_precision_m: 0.8713 - val_recall_m: 0.8452\n",
            "Epoch 12/12\n",
            "6918/6918 [==============================] - 163s 24ms/step - loss: 0.2130 - acc: 0.9205 - f1_m: 0.9194 - precision_m: 0.9338 - recall_m: 0.9060 - val_loss: 0.6366 - val_acc: 0.8183 - val_f1_m: 0.8205 - val_precision_m: 0.8351 - val_recall_m: 0.8070\n"
          ],
          "name": "stdout"
        },
        {
          "output_type": "display_data",
          "data": {
            "image/png": "[encoded data removed]",
            "text/plain": [
              "<Figure size 432x288 with 1 Axes>"
            ]
          },
          "metadata": {
            "tags": []
          }
        },
        {
          "output_type": "display_data",
          "data": {
            "image/png": "[encoded data removed]",
            "text/plain": [
              "<Figure size 432x288 with 1 Axes>"
            ]
          },
          "metadata": {
            "tags": []
          }
        }
      ]
    },
    {
      "cell_type": "markdown",
      "metadata": {
        "id": "Z5U6DwjnscYm",
        "colab_type": "text"
      },
      "source": [
        "**Task 3:** Provide evaluation metrics about the trained model, eventually visualize the results.\n",
        "\n",
        "Two graphs are plot showing accuracy and loss noted on test and training data in the course of 12 epochs. Some evaluation metrics for training data are:\n",
        "\n",
        "1. Loss: 0.2130\n",
        "2. Accuracy: 0.9205\n",
        "3. F1_score: 0.9194\n",
        "4. Precision: 0.9338\n",
        "5. Recall: 0.9060"
      ]
    },
    {
      "cell_type": "code",
      "metadata": {
        "id": "GwEP72uHsIVr",
        "colab_type": "code",
        "colab": {
          "base_uri": "https://localhost:8080/",
          "height": 109
        },
        "outputId": "b4cdcbd5-cd7d-46f4-fc02-e29a6ea32b4c"
      },
      "source": [
        "# evaluate the model\n",
        "loss, accuracy, f1_score, precision, recall = model.evaluate(X_test, y_test, verbose=0)\n",
        "print(\"Loss:\", loss)\n",
        "print(\"Accuracy:\", accuracy)\n",
        "print(\"F1_score:\", f1_score)\n",
        "print(\"Precision:\", precision)\n",
        "print(\"Recall:\", recall)"
      ],
      "execution_count": 114,
      "outputs": [
        {
          "output_type": "stream",
          "text": [
            "Loss: 0.8893659609347219\n",
            "Accuracy: 0.7609756097560976\n",
            "F1_score: 0.7581864369206313\n",
            "Precision: 0.7862089239678732\n",
            "Recall: 0.7326829267129665\n"
          ],
          "name": "stdout"
        }
      ]
    },
    {
      "cell_type": "markdown",
      "metadata": {
        "id": "kNOze3m_7bqA",
        "colab_type": "text"
      },
      "source": [
        "**Task 4:** Explain your results: Is it a good model, what would you do to improve the model.\n",
        "\n",
        "Evauation metrics for test dataset are:\n",
        "1. Loss: 0.8893659609347219\n",
        "2. Accuracy: 0.7609756097560976\n",
        "3. F1_score: 0.7581864369206313\n",
        "4. Precision: 0.7862089239678732\n",
        "5. Recall: 0.7326829267129665\n",
        "\n",
        "Loss is defined as the difference between the predicted value by your model and the true value while accuracy is number of correct predictions by total number of prediction. The model had a low loss and high accuracy for the training dataset but losses rose higher for the test data. This means our model's predictions are far from true values. \n",
        "\n",
        "F1_Score is another measure to test accuracy. It is defined as the weighted harmonic mean of the test’s precision and recall. Our model has high F1_score for both training and test datasets.\n",
        "\n",
        "Precision is defined as the number of true positives over the number of true positives plus the number of false positives, whereas, Recall is defined as the number of true positives over the number of true positives plus the number of false negatives. Both these values are also about average for the model.\n",
        "\n",
        "However, there is still a lot of scope for improvement. We used the simplest form of an LSTM. More hidden layers can be added to the network to enhance its efficiency. A change in hyperparameters can also give better results. The enhacements are discussed in detail later. "
      ]
    },
    {
      "cell_type": "markdown",
      "metadata": {
        "id": "XfH5e6WIflV6",
        "colab_type": "text"
      },
      "source": [
        "**Task 5:** Bonus 1 (optional): Share the trained model as an application. It can be a command line application or any other format that can be executed (it doesn't matter the OS, I have access to Linux, MacOS, and Windows)"
      ]
    },
    {
      "cell_type": "markdown",
      "metadata": {
        "id": "SjDfyLzqfu4x",
        "colab_type": "text"
      },
      "source": [
        "The notebook provides an inbuilt application to access the trained models. The user can enter a statement and a model (lstm, bayes, and svm). The classification would be done based on the models and result would be displayed."
      ]
    },
    {
      "cell_type": "code",
      "metadata": {
        "id": "eZvqbz7W1Dhk",
        "colab_type": "code",
        "colab": {}
      },
      "source": [
        "'''\n",
        "Function to read user input and classify it to one of the three classes.\n",
        "[0] None / Others\n",
        "[1] Softskills \n",
        "[2] Technical\n",
        "'''\n",
        "def text_classification(input_text, model_type):\n",
        "  from keras.models import load_model\n",
        "\n",
        "  if model_type in ('lstm', 'LSTM'):\n",
        "    #reading the saved model\n",
        "    new_model = load_model('models/' + model_type + '.h5')\n",
        "    #tokenizing the input text\n",
        "    X1 = tokenizer.texts_to_sequences([input_text])\n",
        "    #padding with zeros if the input sequence is smaller than 121 which is the max length of sentences in the dataset\n",
        "    X1 = pad_sequences(X1, maxlen=121)\n",
        "    result = new_model_lstm.predict_classes(X1,verbose = 0)\n",
        "  else:\n",
        "    #reading the saved model\n",
        "    new_model = joblib.load('models/' + model_type + '.pkl')\n",
        "\n",
        "    test_df = pd.Series(data=input_text) #Series is the data structure for a single column of a DataFrame\n",
        "\n",
        "    xtest_tfidf_ngram =  tfidf_vect_ngram.transform(test_df)\n",
        "\n",
        "    result = new_model.predict(xtest_tfidf_ngram)\n",
        "\n",
        "  #none = [0], soft=[1], tech=[2]\n",
        "  #print(result)\n",
        "  if np.array_equal(result, [1]):\n",
        "    print(\"You are talking about a Softskill\")\n",
        "  elif np.array_equal(result, [2]):\n",
        "    print(\"You are talking about Technical competencies\")\n",
        "  else:\n",
        "    print(\"You've surprized us! We don't know what you are talking about.\")"
      ],
      "execution_count": 0,
      "outputs": []
    },
    {
      "cell_type": "markdown",
      "metadata": {
        "id": "AljcYOBEL_Gb",
        "colab_type": "text"
      },
      "source": [
        "**Run this section to interact with the application.**"
      ]
    },
    {
      "cell_type": "code",
      "metadata": {
        "id": "6MrVO2Y-dGQO",
        "colab_type": "code",
        "colab": {
          "base_uri": "https://localhost:8080/",
          "height": 98,
          "referenced_widgets": [
            "05518bbe8bf64f0ea577c27a2fb4828f",
            "d5efa9884cfb4ca88d551a01a7a3a4ca",
            "0551f70c66294e9c84585f488c0409d7",
            "519c23fd97d1414cbf65da566d6f243e",
            "cf8a2ee068cc43159a751ef84cb886f6",
            "70644b8a77cd410983e6624d252aa7e3"
          ]
        },
        "outputId": "f9dbdc30-5ff6-4c09-a40f-2b479b15c48c"
      },
      "source": [
        "from ipywidgets import interact, interactive, fixed, interact_manual\n",
        "import ipywidgets as widgets\n",
        "\n",
        "style = {'description_width': 'initial'}\n",
        "\n",
        "input_text = widgets.Text(description=\"What statement do you have for us?\", width=500, style=style)\n",
        "\n",
        "def pass_text(sender):\n",
        "  text_classification(input_text.value, model_type.value)\n",
        "\n",
        "input_text.on_submit(pass_text)\n",
        "\n",
        "model_type = widgets.Dropdown(description=\"Which model shall we test it on?\", width=500, options=[\"svm\", \"lstm\",\"bayes\"], style=style)\n",
        "\n",
        "display(model_type)\n",
        "display(input_text)\n"
      ],
      "execution_count": 118,
      "outputs": [
        {
          "output_type": "display_data",
          "data": {
            "application/vnd.jupyter.widget-view+json": {
              "model_id": "05518bbe8bf64f0ea577c27a2fb4828f",
              "version_minor": 0,
              "version_major": 2
            },
            "text/plain": [
              "Dropdown(description='Which model shall we test it on?', options=('svm', 'lstm', 'bayes'), style=DescriptionSt…"
            ]
          },
          "metadata": {
            "tags": []
          }
        },
        {
          "output_type": "display_data",
          "data": {
            "application/vnd.jupyter.widget-view+json": {
              "model_id": "519c23fd97d1414cbf65da566d6f243e",
              "version_minor": 0,
              "version_major": 2
            },
            "text/plain": [
              "Text(value='', description='What statement do you have for us?', style=DescriptionStyle(description_width='ini…"
            ]
          },
          "metadata": {
            "tags": []
          }
        },
        {
          "output_type": "stream",
          "text": [
            "You are talking about a Softskill\n"
          ],
          "name": "stdout"
        }
      ]
    },
    {
      "cell_type": "markdown",
      "metadata": {
        "id": "-6eQkKyFFheH",
        "colab_type": "text"
      },
      "source": [
        "**Task 6:** Bonus 2 (optional): Suggest some improvements for the future.\n",
        "\n",
        "Eventhough our LSTM model was able to do pretty well, there is always a room of improvement.\n",
        "\n",
        "During the feature extraction section, we used N- grams for our SVM and Naive Bayes classifier and Word embeddings for the LSTM Network. We believe that combining the two set of features could potentially improve the accuracy of the classifier.\n",
        "\n",
        "Another suggestion would be to use ensemble models. We described three different models for text classification. By stacking different models and combining their outputs, we might have better results.\n",
        "\n",
        "Finally, as is the case with most of the Machine Learning problems - the hyperparameters play an important role in training a good classifier. We could further tune these hyperparamaters to enhance the results of our classifier."
      ]
    }
  ]
}